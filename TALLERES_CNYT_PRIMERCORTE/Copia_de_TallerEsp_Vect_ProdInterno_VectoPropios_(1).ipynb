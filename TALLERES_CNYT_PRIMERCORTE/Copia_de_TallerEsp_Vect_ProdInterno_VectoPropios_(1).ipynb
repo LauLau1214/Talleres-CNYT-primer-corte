{
  "cells": [
    {
      "cell_type": "markdown",
      "id": "c7d4de9a-e7dc-4cf3-bd8d-7da869ceb9ac",
      "metadata": {
        "id": "c7d4de9a-e7dc-4cf3-bd8d-7da869ceb9ac"
      },
      "source": [
        "# Internal Product, Eigen Values, Eigen Vectors"
      ]
    },
    {
      "cell_type": "markdown",
      "id": "230128b3-d03b-432e-b255-5ef83bd74b10",
      "metadata": {
        "id": "230128b3-d03b-432e-b255-5ef83bd74b10"
      },
      "source": [
        "\n",
        "# Complex Internal Products: A Quantum Computing Perspective\n",
        "\n",
        "Welcome to this focused tutorial on the concept of complex internal products, a cornerstone in the mathematical framework underpinning quantum computing. In this session, we will dive deep into the complex internal product for both column vectors and square complex matrices, offering a blend of theoretical insights and practical Python implementations.\n",
        "\n",
        "## What You Will Learn\n",
        "- The definition and significance of the complex internal product in quantum computing.\n",
        "- How to compute the complex internal product for column vectors.\n",
        "- How to compute the complex internal product for square complex matrices.\n",
        "\n",
        "Let's embark on this journey to unravel the mysteries of complex internal products and their pivotal role in quantum computing.\n"
      ]
    },
    {
      "cell_type": "markdown",
      "id": "b29760f7-279e-490a-aa40-c7e6e6f4cd82",
      "metadata": {
        "id": "b29760f7-279e-490a-aa40-c7e6e6f4cd82"
      },
      "source": [
        "\n",
        "## Complex Internal Product for Column Vectors\n",
        "\n",
        "# Properties of the Internal Product in Vector Spaces\n",
        "\n",
        "The internal product (or inner product) is a key concept in the study of vector spaces, providing a way to define geometric concepts such as length, angle, and orthogonality within these spaces. The internal product for a vector space is defined as a function:\n",
        "\n",
        "$$ \\langle {-},{-} \\rangle : \\mathbb{V} \\times \\mathbb{V} \\rightarrow \\mathbb{C}  $$\n",
        "\n",
        "that satisfies the following properties for any vectors $x$, $y$, $z$ in the vector space $V$ and any scalar $c$:\n",
        "\n",
        "1. Nondegenerate\n",
        "   $$ \\langle {V},{V} \\rangle \\geq 0  $$\n",
        "   $$ \\langle {V},{V} \\rangle = 0 \\text{ si solo si }V = \\boldsymbol{0} $$\n",
        "3. Respects addition:\n",
        "   $$ \\langle {V_1 + V_2},{V_3} \\rangle = \\langle {V_1},{V_3} \\rangle + \\langle {V_2},{V_3} \\rangle  $$\n",
        "   $$ \\langle {V_1},{V_2 + V_3} \\rangle = \\langle {V_1},{V_2} \\rangle + \\langle {V_1},{V_3} \\rangle $$\n",
        "5. Respects scalar multiplication\n",
        "   $$ \\langle {c \\cdot V_1},{V_2} \\rangle = c \\times \\langle {V_1},{V_2} \\rangle $$\n",
        "   $$ \\langle {V_1},{c \\cdot V_2} \\rangle = \\overline{c} \\times \\langle {V_1},{V_2} \\rangle$$\n",
        "7. Skew symmetric:\n",
        "   $$ \\langle {V_1},{V_2} \\rangle = \\overline{\\langle {V_2},{V_1} \\rangle} $$\n",
        "\n",
        "The definition of the internal product varies across different vector spaces.\n"
      ]
    },
    {
      "cell_type": "markdown",
      "id": "44b4bbab-d6c9-42db-9032-04a4031aed43",
      "metadata": {
        "id": "44b4bbab-d6c9-42db-9032-04a4031aed43"
      },
      "source": [
        "## Example 1: Internal Product in a Complex Vector Space of Column Vectors\n",
        "\n",
        "In a complex vector space of column vectors $\\mathbb{C}^n$, the internal product (often called the dot product in real vector spaces) is defined as follows for vectors $ \\mathbf{a} = [a_1, a_2, \\ldots, a_n]^T $ and $ \\mathbf{b} = [b_1, b_2, \\ldots, b_n]^T $:\n",
        "\n",
        "$$ \\langle V_1, V_2 \\rangle = V_1^\\dagger \\star V_2 = \\sum_{i=0}^{n-1} \\overline{V_1[i]} \\times V_2[i] $$\n",
        "\n",
        "where $ \\overline{V_1[i]} $ denotes the complex conjugate of $ V_1[i] $.\n",
        "\n",
        "### Example:\n",
        "\n",
        "Given $ \\mathbf{a} = [1+i, 2-i]^T $ and $ \\mathbf{b} = [2+i, 3+i]^T $, the internal product is:\n",
        "\n",
        "$$ \\langle \\mathbf{a}, \\mathbf{b} \\rangle = (1-i)(2+i) + (2+i)(3+i) = (3-i) + (5 +5i) = 8 + 4i $$\n",
        "\n",
        "### Example in Python\n"
      ]
    },
    {
      "cell_type": "code",
      "execution_count": null,
      "id": "a9dd42cb-d9ad-42c6-bd2b-b9596413fc27",
      "metadata": {
        "scrolled": true,
        "id": "a9dd42cb-d9ad-42c6-bd2b-b9596413fc27"
      },
      "outputs": [],
      "source": [
        "\n",
        "import numpy as np\n",
        "\n",
        "# Define two complex column vectors\n",
        "vector_a = np.array([1+1j, 2-1j])\n",
        "vector_b = np.array([2+1j, 3+1j])\n",
        "\n",
        "# Compute the complex internal product\n",
        "complex_internal_product_vector = np.vdot(vector_a, vector_b)\n",
        "\n",
        "complex_internal_product_vector"
      ]
    },
    {
      "cell_type": "markdown",
      "id": "e5218298-a104-4ad0-8358-7830a7435850",
      "metadata": {
        "id": "e5218298-a104-4ad0-8358-7830a7435850"
      },
      "source": [
        "## Example 2: Internal Product in a Complex Vector Space of Square Matrices\n",
        "\n",
        "For square complex matrices, the internal product is defined for matrices $A$ and $B$ as:\n",
        "\n",
        "$$ \\langle A, B \\rangle = \\text{Tr}(\\bar{A}^T B) $$\n",
        "\n",
        "where $ \\text{Tr} $ denotes the trace of a matrix (the sum of all diagonal elements) and $ \\bar{A}^T $ is the conjugate transpose of $ A $.\n",
        "\n",
        "### Example:\n",
        "\n",
        "Given\n",
        "\n",
        "$$ A = \\begin{bmatrix} 1+i & 2 \\\\ 3 & 4-i \\end{bmatrix}, \\quad B = \\begin{bmatrix} 5 & 6+i \\\\ 7-i & 8 \\end{bmatrix} $$\n",
        "\n",
        "the internal product is:\n",
        "\n",
        "$$ \\langle A, B \\rangle = \\text{Tr} \\left( \\begin{bmatrix} 1-i & 3 \\\\ 2 & 4+i \\end{bmatrix} \\begin{bmatrix} 5 & 6+i \\\\ 7-i & 8 \\end{bmatrix} \\right) = \\text{Tr} \\left( \\begin{bmatrix} 26-8j & 31-5j \\\\ 39 + 3j & 44 + 10j \\end{bmatrix} \\right) = 70 +2j $$\n",
        "\n",
        "Note: The exact value of the trace depends on the computation of the product and the sum of the diagonal elements.\n",
        "\n",
        "### The example in Python:\n"
      ]
    },
    {
      "cell_type": "code",
      "execution_count": null,
      "id": "ae835d06-f4fb-4492-b85f-a76a13e27e8c",
      "metadata": {
        "id": "ae835d06-f4fb-4492-b85f-a76a13e27e8c"
      },
      "outputs": [],
      "source": [
        "import numpy as np\n",
        "\n",
        "# Define two square complex matrices\n",
        "matrix_A = np.array([[1+1j, 2], [3, 4-1j]])\n",
        "matrix_B = np.array([[5, 6+1j], [7-1j, 8]])\n",
        "\n",
        "# Compute the complex internal product for matrices\n",
        "print(np.dot(np.conjugate(matrix_A).T, matrix_B))\n",
        "complex_internal_product_matrix = np.trace(np.dot(np.conjugate(matrix_A).T, matrix_B))\n",
        "\n",
        "complex_internal_product_matrix"
      ]
    },
    {
      "cell_type": "markdown",
      "id": "aecccff0-283f-48e3-913d-5abbed6ab97d",
      "metadata": {
        "id": "aecccff0-283f-48e3-913d-5abbed6ab97d"
      },
      "source": [
        "\n",
        "## Example 3: Complex Internal Product for Square Complex Matrices\n",
        "\n",
        "\n",
        "### Python Example\n"
      ]
    },
    {
      "cell_type": "code",
      "execution_count": null,
      "id": "dddeb5d2-9f70-4ca7-88b0-2a3e7eefe2bc",
      "metadata": {
        "id": "dddeb5d2-9f70-4ca7-88b0-2a3e7eefe2bc"
      },
      "outputs": [],
      "source": [
        "\n",
        "# Define two square complex matrices\n",
        "matrix_A = np.array([[1+2j, 3+4j], [5+6j, 7+8j]])\n",
        "matrix_B = np.array([[9-10j, 11-12j], [13-14j, 15-16j]])\n",
        "\n",
        "# Compute the complex internal product for matrices\n",
        "complex_internal_product_matrix = np.trace(np.dot(np.conjugate(matrix_A).T, matrix_B))\n",
        "\n",
        "complex_internal_product_matrix\n"
      ]
    },
    {
      "cell_type": "code",
      "execution_count": null,
      "id": "72119954-9647-4f66-93e9-c014c05bb48c",
      "metadata": {
        "id": "72119954-9647-4f66-93e9-c014c05bb48c"
      },
      "outputs": [],
      "source": [
        "\n",
        "# Define a complex Unitary matrix\n",
        "unitary_matrix = np.array([[1/np.sqrt(2), 1/np.sqrt(2)], [1/np.sqrt(2)*1j, -1/np.sqrt(2)*1j]])\n",
        "\n",
        "# Check if the matrix is Unitary\n",
        "# np.eye(2) returns the identity of size 2x2\n",
        "is_unitary = np.allclose(np.dot(unitary_matrix, unitary_matrix.conj().T), np.eye(2))\n",
        "\n",
        "is_unitary, unitary_matrix\n"
      ]
    },
    {
      "cell_type": "markdown",
      "id": "85750bcf-34ab-49ab-9163-509b29e719c9",
      "metadata": {
        "id": "85750bcf-34ab-49ab-9163-509b29e719c9"
      },
      "source": [
        "# Eigenvalues and Eigenvectors\n",
        "\n",
        "Below are examples that illustrate how to compute eigenvalues, eigenvectors, and how to plot matrix transformations in a Jupyter Notebook using Python. These examples utilize the numpy and matplotlib libraries, so make sure these are installed in your environment."
      ]
    },
    {
      "cell_type": "code",
      "execution_count": null,
      "id": "f7f68e25-70d2-4ac8-a1fc-f97a1921bb2c",
      "metadata": {
        "id": "f7f68e25-70d2-4ac8-a1fc-f97a1921bb2c"
      },
      "outputs": [],
      "source": [
        "import numpy as np\n",
        "\n",
        "# Define a square matrix\n",
        "A = np.array([[4, 2], [1, 3]])\n",
        "\n",
        "# Compute eigenvalues and eigenvectors\n",
        "eigenvalues, eigenvectors = np.linalg.eig(A)\n",
        "\n",
        "print(\"Eigenvalues:\", eigenvalues)\n",
        "print(\"Eigenvectors:\\n\", eigenvectors)"
      ]
    },
    {
      "cell_type": "markdown",
      "id": "1cd1e64b-b454-4a06-bb27-6ecafbd1470c",
      "metadata": {
        "id": "1cd1e64b-b454-4a06-bb27-6ecafbd1470c"
      },
      "source": [
        "This code snippet computes the eigenvalues and eigenvectors of the matrix A and prints them. The np.linalg.eig function returns a tuple consisting of an array of eigenvalues and a 2D array of the corresponding eigenvectors."
      ]
    },
    {
      "cell_type": "markdown",
      "id": "ff0bcbf9-9e2f-4f04-af8e-2a1132cd5108",
      "metadata": {
        "id": "ff0bcbf9-9e2f-4f04-af8e-2a1132cd5108"
      },
      "source": []
    },
    {
      "cell_type": "code",
      "execution_count": null,
      "id": "d5c50dc3-0113-4104-930a-aea1894db760",
      "metadata": {
        "id": "d5c50dc3-0113-4104-930a-aea1894db760"
      },
      "outputs": [],
      "source": [
        "import numpy as np\n",
        "import matplotlib.pyplot as plt\n",
        "\n",
        "# Define a transformation matrix\n",
        "T = np.array([[2, 1], [1, 3]])\n",
        "\n",
        "# Generate a set of vectors (unit circle)\n",
        "theta = np.linspace(0, 2*np.pi, 100)\n",
        "vectors = np.array([np.cos(theta), np.sin(theta)])\n",
        "\n",
        "# Apply the transformation\n",
        "transformed_vectors = T.dot(vectors)\n",
        "\n",
        "# Plotting\n",
        "plt.figure(figsize=(6,6))\n",
        "plt.plot(vectors[0], vectors[1], 'b', label='Original Vectors')  # Original vectors\n",
        "plt.plot(transformed_vectors[0], transformed_vectors[1], 'r', label='Transformed Vectors')  # Transformed vectors\n",
        "plt.axis('equal')\n",
        "plt.legend()\n",
        "plt.title('Matrix Transformation')\n",
        "plt.xlabel('X')\n",
        "plt.ylabel('Y')\n",
        "plt.grid(True)\n",
        "plt.show()\n"
      ]
    },
    {
      "cell_type": "markdown",
      "id": "ffa82608-ea8c-4bc7-b357-a8552a649f0c",
      "metadata": {
        "id": "ffa82608-ea8c-4bc7-b357-a8552a649f0c"
      },
      "source": [
        "# Exercises on Complex Vector and Matrix Operations\n",
        "\n",
        "This set of exercises is designed to test your understanding of various concepts related to complex vector and matrix operations, which are foundational in quantum computing. Each exercise presents a concrete case for you to apply what you've learned about complex internal products, Hermitian matrices, Unitary matrices, and tensor products.\n",
        "\n",
        "NOTE: VERIFY YOUR COMPUTATIONS IN PAPER AND IN THE COMPUTER.\n",
        "\n",
        "## Exercise 1: Complex Internal Product for Column Vectors\n",
        "\n",
        "Given two complex column vectors:\n",
        "\n",
        "$$ \\mathbf{a} = \\begin{bmatrix} 1 + 2i \\\\ 3 - 4i \\end{bmatrix}, \\quad \\mathbf{b} = \\begin{bmatrix} 2 - i \\\\ -1 + 3i \\end{bmatrix} $$\n",
        "\n",
        "Calculate the complex internal product $ \\langle \\mathbf{a}, \\mathbf{b} \\rangle $.\n",
        "\n",
        "## Exercise 2: Complex Internal Product for Square Complex Matrices\n",
        "\n",
        "Given two square complex matrices:\n",
        "\n",
        "$$ A = \\begin{bmatrix} 1+i & 2-2i \\\\ 3+3i & 4-i \\end{bmatrix}, \\quad B = \\begin{bmatrix} 1-2i & 3+i \\\\ 4-4i & 2+2i \\end{bmatrix} $$\n",
        "\n",
        "Calculate the complex internal product $ \\langle A, B \\rangle $.\n",
        "\n"
      ]
    },
    {
      "cell_type": "markdown",
      "id": "c3dd8912-c347-46da-89d8-ef5146a4d847",
      "metadata": {
        "id": "c3dd8912-c347-46da-89d8-ef5146a4d847"
      },
      "source": [
        "# Exercises on eigenvalues and eigenvectors\n",
        "\n",
        "## Exercise 1: Compute Eigenvalues and Eigenvectors of a Real Matrix\n",
        "\n",
        "Compute the eigenvalues and eigenvectors of the following real matrix:\n",
        "\n",
        "$$\n",
        "A = \\begin{pmatrix}\n",
        "4 & 1 \\\\\n",
        "2 & 3\n",
        "\\end{pmatrix}\n",
        "$$\n",
        "\n",
        "**Hint:** Use `numpy.linalg.eig`.\n",
        "\n",
        "## Exercise 2: Eigenvalues and Eigenvectors of a Complex Matrix\n",
        "\n",
        "Compute the eigenvalues and eigenvectors of the following complex matrix:\n",
        "\n",
        "$$\n",
        "B = \\begin{pmatrix}\n",
        "1 + 2i & 2 + 3i \\\\\n",
        "4 + 5i & 6 + 7i\n",
        "\\end{pmatrix}\n",
        "$$\n",
        "\n",
        "where \\(i\\) is the imaginary unit.\n",
        "\n",
        "**Hint:** Ensure your matrix is defined with complex numbers in Python using `dtype=complex`.\n",
        "\n",
        "## Exercise 3: Symmetric Matrix Eigendecomposition\n",
        "\n",
        "Compute the eigenvalues and eigenvectors of the following symmetric matrix:\n",
        "\n",
        "$$\n",
        "C = \\begin{pmatrix}\n",
        "5 & 4 \\\\\n",
        "4 & 5\n",
        "\\end{pmatrix}\n",
        "$$\n",
        "\n",
        "Discuss the properties of the eigenvectors and eigenvalues for symmetric matrices based on your results.\n",
        "\n",
        "## Exercise 4: Plotting Matrix Transformations\n",
        "\n",
        "Consider the matrix:\n",
        "\n",
        "$$\n",
        "T = \\begin{pmatrix}\n",
        "2 & 1 \\\\\n",
        "1 & 3\n",
        "\\end{pmatrix}\n",
        "$$\n",
        "\n",
        "1. Plot the unit circle.\n",
        "2. Apply the matrix \\(T\\) to transform the unit circle.\n",
        "3. Plot the transformed figure.\n",
        "4. Show graphically that the eigenvectors are only multiplied by an escalar when transformed. (Plot the eigen vectors and the transformed ones)\n",
        "\n",
        "Explain how the matrix \\(T\\) transforms the unit circle based on the resulting plot.\n",
        "\n",
        "**Hint:** Use `numpy` for matrix operations and `matplotlib` for plotting.\n",
        "\n",
        "## Exercise 5: Diagonal Matrix Eigendecomposition\n",
        "\n",
        "Compute the eigenvalues and eigenvectors of the following diagonal matrix:\n",
        "\n",
        "$$\n",
        "D = \\begin{pmatrix}\n",
        "7 & 0 \\\\\n",
        "0 & -3\n",
        "\\end{pmatrix}\n",
        "$$\n",
        "\n",
        "Discuss the significance of the eigenvalues and eigenvectors for diagonal matrices.\n"
      ]
    },
    {
      "cell_type": "code",
      "execution_count": 1,
      "id": "7e120915-bd15-45e6-92e0-54756ae01bf6",
      "metadata": {
        "id": "7e120915-bd15-45e6-92e0-54756ae01bf6",
        "colab": {
          "base_uri": "https://localhost:8080/"
        },
        "outputId": "0c755f66-6b80-4dfe-9845-22fff521761a"
      },
      "outputs": [
        {
          "output_type": "execute_result",
          "data": {
            "text/plain": [
              "np.complex128(-15+0j)"
            ]
          },
          "metadata": {},
          "execution_count": 1
        }
      ],
      "source": [
        "#Exercises on Complex Vector and Matrix Operations\n",
        "\n",
        "#Ejercicio 1\n",
        "\n",
        "import numpy as np\n",
        "\n",
        "# Define two complex column vectors\n",
        "vector_a = np.array([1+2j,3-4j])\n",
        "vector_b = np.array([2-1j, -1+3j])\n",
        "\n",
        "# Compute the complex internal product\n",
        "\n",
        "complex_internal_product = np.vdot(vector_a, vector_b)\n",
        "\n",
        "complex_internal_product\n"
      ]
    },
    {
      "cell_type": "code",
      "source": [
        "#Ejercicio 2\n",
        "\n",
        "import numpy as np\n",
        "\n",
        "matrix_A = np.array([[1+1j, 2-2j], [3+3j, 4-1j]])\n",
        "matrix_B = np.array([[1-2j, 3+1j],[4-4j,2+2j]])\n",
        "\n",
        "print(np.dot(np.conjugate(matrix_A).T, matrix_B))\n",
        "complex_internal_product = np.trace(np.dot(np.conjugate(matrix_A).T, matrix_B))\n",
        "\n",
        "complex_internal_product"
      ],
      "metadata": {
        "colab": {
          "base_uri": "https://localhost:8080/"
        },
        "id": "JxppVzZtJkDE",
        "outputId": "2aef1dd7-4b78-4ec3-87a8-973777149b45"
      },
      "id": "JxppVzZtJkDE",
      "execution_count": 3,
      "outputs": [
        {
          "output_type": "stream",
          "name": "stdout",
          "text": [
            "[[-1.-27.j 16. -2.j]\n",
            " [26.-14.j 10.+18.j]]\n"
          ]
        },
        {
          "output_type": "execute_result",
          "data": {
            "text/plain": [
              "np.complex128(9-9j)"
            ]
          },
          "metadata": {},
          "execution_count": 3
        }
      ]
    },
    {
      "cell_type": "code",
      "source": [
        "#Exercises on eigenvalues and eigenvectors\n",
        "\n",
        "#Ejercicio 1\n",
        "\n",
        "import numpy as np\n",
        "\n",
        "A = np.array([[4, 1], [2, 3]])\n",
        "\n",
        "eigenvalues, eigenvectors = np.linalg.eig(A)\n",
        "\n",
        "print(\"Eigenvalues:\", eigenvalues)\n",
        "print(\"Eigenvectors:\\n\", eigenvectors)"
      ],
      "metadata": {
        "colab": {
          "base_uri": "https://localhost:8080/"
        },
        "id": "WchznO09K1Em",
        "outputId": "812b74c5-47f2-4ae3-bd71-2eb3a3780c60"
      },
      "id": "WchznO09K1Em",
      "execution_count": null,
      "outputs": [
        {
          "output_type": "stream",
          "name": "stdout",
          "text": [
            "Eigenvalues: [5. 2.]\n",
            "Eigenvectors:\n",
            " [[ 0.70710678 -0.4472136 ]\n",
            " [ 0.70710678  0.89442719]]\n"
          ]
        }
      ]
    },
    {
      "cell_type": "code",
      "source": [
        "#Ejercicio 2\n",
        "\n",
        "import numpy as np\n",
        "\n",
        "B = np.array([[1+2j, 2+3j], [4+5j, 6+7j]], dtype=complex)\n",
        "\n",
        "eigenvalues, eigenvectors = np.linalg.eig(B)\n",
        "\n",
        "print(\"Eigenvalues:\", eigenvalues)\n",
        "print(\"Eigenvectors:\\n\", eigenvectors)\n",
        "\n"
      ],
      "metadata": {
        "colab": {
          "base_uri": "https://localhost:8080/"
        },
        "id": "qWEuJQXwLY6Q",
        "outputId": "4be108ec-1a97-4fa2-b577-07011b6b276d"
      },
      "id": "qWEuJQXwLY6Q",
      "execution_count": null,
      "outputs": [
        {
          "output_type": "stream",
          "name": "stdout",
          "text": [
            "Eigenvalues: [-0.25519526-0.09363597j  7.25519526+9.09363597j]\n",
            "Eigenvectors:\n",
            " [[ 0.8280679 +0.j          0.35299759+0.04782692j]\n",
            " [-0.559984  -0.02686037j  0.93440103+0.j        ]]\n"
          ]
        }
      ]
    },
    {
      "cell_type": "code",
      "source": [
        "#Ejercicio 3\n",
        "\n",
        "import numpy as np\n",
        "\n",
        "C = np.array([[5, 4], [4, 5]])\n",
        "\n",
        "eigenvalues, eigenvectors = np.linalg.eig(C)\n",
        "\n",
        "print(\"Eigenvalues:\", eigenvalues)\n",
        "print(\"Eigenvectors:\\n\", eigenvectors)\n",
        "#"
      ],
      "metadata": {
        "colab": {
          "base_uri": "https://localhost:8080/"
        },
        "id": "VUH5rxM4MjST",
        "outputId": "8f81c77b-1cb7-4501-b56a-33f1826c46ec"
      },
      "id": "VUH5rxM4MjST",
      "execution_count": null,
      "outputs": [
        {
          "output_type": "stream",
          "name": "stdout",
          "text": [
            "Eigenvalues: [9. 1.]\n",
            "Eigenvectors:\n",
            " [[ 0.70710678 -0.70710678]\n",
            " [ 0.70710678  0.70710678]]\n"
          ]
        }
      ]
    },
    {
      "cell_type": "markdown",
      "source": [
        "1. Para los autovalores reales en una matriz simetrica como $C$, todos los autovalores son reales y fueron $9$ y $1$\n",
        "\n",
        "2. Para los autovectores ortogonales que estan asociados a autovalores distintos siendo estos ortogonales como lo siguiente\n",
        "$[(1,1),(-1,1)] = 1 * (-1) + 1 * 1 = 0$\n",
        "\n",
        "3. Los autovectores estan normalizados\n",
        "$\\frac{1}{\\sqrt{2}}(1,1)$ y $\\frac{1}{\\sqrt{2}}(-1,1)$\n",
        "\n",
        "4. $C$ se puede escribir como $C = QAQ^{T}$, donde $Q$ tiene columnas los autovectores ortonormales y $A$ es la diagonal de autovalores."
      ],
      "metadata": {
        "id": "5QcFrtamM_0p"
      },
      "id": "5QcFrtamM_0p"
    },
    {
      "cell_type": "code",
      "source": [
        "#Ejercicio 4\n",
        "\n",
        "import numpy as np\n",
        "import matplotlib.pyplot as plt\n",
        "\n",
        "T = np.array([[2, 1], [1, 3]])\n",
        "\n",
        "theta = np.linspace(0, 2*np.pi, 100)\n",
        "\n",
        "vectors = np.array([np.cos(theta), np.sin(theta)])\n",
        "\n",
        "transformed_vectors = T.dot(vectors)\n",
        "\n",
        "eigvalues, eigvectors = np.linalg.eig(T)\n",
        "\n",
        "print(\"Eigenvalues:\", eigvalues)\n",
        "print(\"Eigenvectors:\\n\", eigvectors)\n",
        "\n",
        "plt.figure(figsize=(6,6))\n",
        "plt.plot(vectors[0], vectors[1], 'b', label='Original Vectors')\n",
        "plt.plot(transformed_vectors[0], transformed_vectors[1], 'r', label='Transformed Vectors')\n",
        "\n",
        "plt.axis('equal')\n",
        "plt.legend()\n",
        "plt.title('Matrix Transformation')\n",
        "plt.xlabel('X')\n",
        "plt.ylabel('Y')\n",
        "plt.grid(True)\n",
        "plt.show()\n",
        "\n",
        "\n"
      ],
      "metadata": {
        "colab": {
          "base_uri": "https://localhost:8080/",
          "height": 633
        },
        "id": "Sm0OpTLHPJJO",
        "outputId": "89fd3f39-0e22-4c90-ab41-2282fd78f516"
      },
      "id": "Sm0OpTLHPJJO",
      "execution_count": null,
      "outputs": [
        {
          "output_type": "stream",
          "name": "stdout",
          "text": [
            "Eigenvalues: [1.38196601 3.61803399]\n",
            "Eigenvectors:\n",
            " [[-0.85065081 -0.52573111]\n",
            " [ 0.52573111 -0.85065081]]\n"
          ]
        },
        {
          "output_type": "display_data",
          "data": {
            "text/plain": [
              "<Figure size 600x600 with 1 Axes>"
            ],
            "image/png": "[encoded data removed]"
          },
          "metadata": {}
        }
      ]
    },
    {
      "cell_type": "code",
      "source": [
        "#Ejercicio 5\n",
        "\n",
        "import numpy as np\n",
        "\n",
        "D = np.array([[7, 0], [0, -3]])\n",
        "\n",
        "eigenvalues, eigenvectors = np.linalg.eig(D)\n",
        "\n",
        "print(\"Eigenvalues:\", eigenvalues)\n",
        "print(\"Eigenvectors:\\n\", eigenvectors)\n",
        "\n"
      ],
      "metadata": {
        "colab": {
          "base_uri": "https://localhost:8080/"
        },
        "id": "PqXAnmdKQUyl",
        "outputId": "59cd0150-4ec7-4b15-cb8d-32510b5d7f2f"
      },
      "id": "PqXAnmdKQUyl",
      "execution_count": null,
      "outputs": [
        {
          "output_type": "stream",
          "name": "stdout",
          "text": [
            "Eigenvalues: [ 7. -3.]\n",
            "Eigenvectors:\n",
            " [[1. 0.]\n",
            " [0. 1.]]\n"
          ]
        }
      ]
    },
    {
      "cell_type": "markdown",
      "source": [
        "Para cada matriz diagonal, cada entrada diagonal $d_{ii}$ es un autovalor. Los autovectores son los vectores de la base canonica.\n",
        "\n",
        "Si nos guiamos de acuerdo a la matriz que tenemos geometricamente $D$ escala el $eje$ $x$ por $7$ y el $eje$  $y$ por $-3$ y asi podemos observar que la circunferencia se vuelve una elipse. De por si toda matriz diagonal ya esta como tal en su forma diagonal, en caso de que  un valor diagonal se repita, el espacio propio asociado tiene dimension igual a la multiplicidad y hay libertab para elegir una base de autovectores dentro de ese subespacio."
      ],
      "metadata": {
        "id": "YGn8jeS1Qx2n"
      },
      "id": "YGn8jeS1Qx2n"
    }
  ],
  "metadata": {
    "kernelspec": {
      "display_name": "Python 3 (ipykernel)",
      "language": "python",
      "name": "python3"
    },
    "language_info": {
      "codemirror_mode": {
        "name": "ipython",
        "version": 3
      },
      "file_extension": ".py",
      "mimetype": "text/x-python",
      "name": "python",
      "nbconvert_exporter": "python",
      "pygments_lexer": "ipython3",
      "version": "3.9.1"
    },
    "colab": {
      "provenance": []
    }
  },
  "nbformat": 4,
  "nbformat_minor": 5
}