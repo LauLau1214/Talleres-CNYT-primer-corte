{
  "cells": [
    {
      "cell_type": "markdown",
      "id": "a07bd584",
      "metadata": {
        "id": "a07bd584"
      },
      "source": [
        "# Theory of Complex Vector Spaces\n",
        "Complex vector spaces extend the idea of real vector spaces by allowing vectors to have complex numbers as their components. In these spaces, vectors can be added together and multiplied by complex scalars to produce new vectors. Key operations in complex vector spaces include vector addition, scalar multiplication, vector negation, and complex conjugation."
      ]
    },
    {
      "cell_type": "markdown",
      "id": "f43fc972-23ab-4d81-aa26-c51325dac8f3",
      "metadata": {
        "id": "f43fc972-23ab-4d81-aa26-c51325dac8f3"
      },
      "source": [
        "# Creating complex column vectors"
      ]
    },
    {
      "cell_type": "code",
      "execution_count": 1,
      "id": "029f08ba-1cdc-4928-9631-f62c51ab7aa5",
      "metadata": {
        "colab": {
          "base_uri": "https://localhost:8080/"
        },
        "id": "029f08ba-1cdc-4928-9631-f62c51ab7aa5",
        "outputId": "382e03e2-7be3-45fb-d22e-769c1432198a"
      },
      "outputs": [
        {
          "output_type": "stream",
          "name": "stdout",
          "text": [
            "Matrix:\n",
            " [[2 3]\n",
            " [1 4]]\n",
            "\n",
            "Vector:\n",
            " [5 6]\n",
            "\n",
            "Result of multiplication:\n",
            " [28 29]\n"
          ]
        }
      ],
      "source": [
        "import numpy as np\n",
        "\n",
        "# Define a 2x2 square matrix\n",
        "matrix = np.array([[2, 3],\n",
        "                   [1, 4]])\n",
        "\n",
        "# Define a vector of size 2\n",
        "vector = np.array([5, 6])\n",
        "\n",
        "# Multiply the matrix by the vector\n",
        "result = np.dot(matrix, vector)\n",
        "\n",
        "# Display the result\n",
        "print(\"Matrix:\\n\", matrix)\n",
        "print(\"\\nVector:\\n\", vector)\n",
        "print(\"\\nResult of multiplication:\\n\", result)\n"
      ]
    },
    {
      "cell_type": "markdown",
      "id": "975c2284",
      "metadata": {
        "id": "975c2284"
      },
      "source": [
        "## Manipulating Complex Column Vectors using NumPy\n",
        "Here we demonstrate how to manipulate complex column vectors using NumPy, including operations like sum, negation, multiplication by a scalar, transpose, adjunct, and conjugate."
      ]
    },
    {
      "cell_type": "code",
      "execution_count": 2,
      "id": "e8058abe",
      "metadata": {
        "colab": {
          "base_uri": "https://localhost:8080/"
        },
        "id": "e8058abe",
        "outputId": "dd70365f-2b19-47fb-e313-ca81f99b2d73"
      },
      "outputs": [
        {
          "output_type": "execute_result",
          "data": {
            "text/plain": [
              "(array([[3.+2.j],\n",
              "        [8.-2.j],\n",
              "        [5.-3.j]]),\n",
              " array([[-2.-3.j],\n",
              "        [-5.+4.j],\n",
              "        [-1.-1.j]]),\n",
              " array([[ 1.+8.j],\n",
              "        [14.-3.j],\n",
              "        [ 1.+3.j]]),\n",
              " array([[2.+3.j, 5.-4.j, 1.+1.j]]),\n",
              " array([[2.-3.j, 5.+4.j, 1.-1.j]]),\n",
              " array([[2.-3.j],\n",
              "        [5.+4.j],\n",
              "        [1.-1.j]]))"
            ]
          },
          "metadata": {},
          "execution_count": 2
        }
      ],
      "source": [
        "\n",
        "import numpy as np\n",
        "\n",
        "# Define two complex column vectors\n",
        "v1 = np.array([[2+3j], [5-4j], [1+1j]])\n",
        "v2 = np.array([[1-1j], [3+2j], [4-4j]])\n",
        "\n",
        "# Sum\n",
        "sum_v = v1 + v2\n",
        "\n",
        "# Negation\n",
        "neg_v1 = -v1\n",
        "\n",
        "# Multiplication by a scalar\n",
        "scalar = 2 + 1j\n",
        "mult_v1 = v1 * scalar\n",
        "\n",
        "# Transpose\n",
        "transpose_v1 = v1.T\n",
        "\n",
        "# Adjunct (Conjugate transpose)\n",
        "adjunct_v1 = v1.T.conj()\n",
        "\n",
        "# Conjugate\n",
        "conjugate_v1 = np.conjugate(v1)\n",
        "\n",
        "(sum_v, neg_v1, mult_v1, transpose_v1, adjunct_v1, conjugate_v1)\n"
      ]
    },
    {
      "cell_type": "markdown",
      "id": "995ae5fc",
      "metadata": {
        "id": "995ae5fc"
      },
      "source": [
        "# Theory of Vector Spaces using Matrices\n",
        "In the context of matrices, vector spaces can be defined where each vector is a matrix of a particular size. Operations on these matrix-vector spaces include matrix addition, scalar multiplication, matrix negation, transpose, adjunct, and conjugate. In this section, we focus on square matrices of size 3x3."
      ]
    },
    {
      "cell_type": "markdown",
      "id": "9385c1f0",
      "metadata": {
        "id": "9385c1f0"
      },
      "source": [
        "## Manipulating Square Matrices using NumPy\n",
        "Examples of how to manipulate 3x3 square matrices using NumPy, showing operations such as sum, negation, multiplication by a scalar, conjugate, transpose, and adjunct."
      ]
    },
    {
      "cell_type": "code",
      "execution_count": 3,
      "id": "b81ecc57",
      "metadata": {
        "colab": {
          "base_uri": "https://localhost:8080/"
        },
        "id": "b81ecc57",
        "outputId": "16ecef5c-0e64-4d53-ded8-4a6509fc16a6"
      },
      "outputs": [
        {
          "output_type": "execute_result",
          "data": {
            "text/plain": [
              "(array([[3.+3.j, 6.+0.j, 3.-3.j],\n",
              "        [1.+1.j, 2.+5.j, 6.-2.j],\n",
              "        [7.+3.j, 8.-2.j, 5.+3.j]]),\n",
              " array([[-2.-3.j, -4.+1.j, -0.-0.j],\n",
              "        [-1.-1.j, -3.-3.j, -5.-0.j],\n",
              "        [-4.-0.j, -6.+2.j, -1.+1.j]]),\n",
              " array([[-0.5+2.5j,  2.5+1.5j,  0. +0.j ],\n",
              "        [ 0. +1.j ,  0. +3.j ,  2.5+2.5j],\n",
              "        [ 2. +2.j ,  4. +2.j ,  1. +0.j ]]),\n",
              " array([[2.-3.j, 4.+1.j, 0.-0.j],\n",
              "        [1.-1.j, 3.-3.j, 5.-0.j],\n",
              "        [4.-0.j, 6.+2.j, 1.+1.j]]),\n",
              " array([[2.+3.j, 1.+1.j, 4.+0.j],\n",
              "        [4.-1.j, 3.+3.j, 6.-2.j],\n",
              "        [0.+0.j, 5.+0.j, 1.-1.j]]),\n",
              " array([[2.-3.j, 1.-1.j, 4.-0.j],\n",
              "        [4.+1.j, 3.-3.j, 6.+2.j],\n",
              "        [0.-0.j, 5.-0.j, 1.+1.j]]))"
            ]
          },
          "metadata": {},
          "execution_count": 3
        }
      ],
      "source": [
        "\n",
        "# Define two 3x3 complex matrices\n",
        "m1 = np.array([[2+3j, 4-1j, 0],\n",
        "               [1+1j, 3+3j, 5],\n",
        "               [4, 6-2j, 1-1j]])\n",
        "m2 = np.array([[1, 2+1j, 3-3j],\n",
        "               [0, -1+2j, 1-2j],\n",
        "               [3+3j, 2, 4+4j]])\n",
        "\n",
        "# Sum\n",
        "sum_m = m1 + m2\n",
        "\n",
        "# Negation\n",
        "neg_m1 = -m1\n",
        "\n",
        "# Multiplication by a scalar\n",
        "scalar = 0.5 + 0.5j\n",
        "mult_m1 = m1 * scalar\n",
        "\n",
        "# Conjugate\n",
        "conjugate_m1 = np.conjugate(m1)\n",
        "\n",
        "# Transpose\n",
        "transpose_m1 = m1.T\n",
        "\n",
        "# Adjunct (Conjugate transpose)\n",
        "adjunct_m1 = m1.T.conj()\n",
        "\n",
        "(sum_m, neg_m1, mult_m1, conjugate_m1, transpose_m1, adjunct_m1)\n"
      ]
    },
    {
      "cell_type": "markdown",
      "id": "ed909545-8a5c-4cca-85f7-48688b597598",
      "metadata": {
        "id": "ed909545-8a5c-4cca-85f7-48688b597598"
      },
      "source": [
        "## Checking the Dimension of a Matrix\n",
        "We can check the dimension of a matrix using the `.shape` attribute."
      ]
    },
    {
      "cell_type": "code",
      "execution_count": null,
      "id": "0930dc10-af6d-427f-bbcb-75bfaf051db5",
      "metadata": {
        "colab": {
          "base_uri": "https://localhost:8080/"
        },
        "id": "0930dc10-af6d-427f-bbcb-75bfaf051db5",
        "outputId": "20228d02-cd08-4429-e8c2-188c71d496fd"
      },
      "outputs": [
        {
          "output_type": "execute_result",
          "data": {
            "text/plain": [
              "(3, 3)"
            ]
          },
          "metadata": {},
          "execution_count": 28
        }
      ],
      "source": [
        "# Checking the dimension of matrix1\n",
        "m1.shape"
      ]
    },
    {
      "cell_type": "markdown",
      "id": "b3fe896b",
      "metadata": {
        "id": "b3fe896b"
      },
      "source": [
        "## Action of a Matrix on a Vector\n",
        "Finally, examples of how to use Python to multiply a 3x3 square matrix by a 3x1 column vector."
      ]
    },
    {
      "cell_type": "code",
      "execution_count": 4,
      "id": "e514d047",
      "metadata": {
        "colab": {
          "base_uri": "https://localhost:8080/"
        },
        "id": "e514d047",
        "outputId": "71bb9413-97c3-47d8-b93a-3de957f2d34d"
      },
      "outputs": [
        {
          "output_type": "execute_result",
          "data": {
            "text/plain": [
              "array([[11. -9.j],\n",
              "       [31.+13.j],\n",
              "       [32.-22.j]])"
            ]
          },
          "metadata": {},
          "execution_count": 4
        }
      ],
      "source": [
        "\n",
        "# Multiplying a 3x3 matrix by a 3x1 vector\n",
        "result = np.dot(m1, v1)\n",
        "result\n"
      ]
    },
    {
      "cell_type": "markdown",
      "id": "5adf9d8a-af43-4074-ab1a-3cabdc4accff",
      "metadata": {
        "id": "5adf9d8a-af43-4074-ab1a-3cabdc4accff"
      },
      "source": [
        "# Exercises on Complex Vectors and Matrices with Concrete Cases\n",
        "\n",
        "This set of exercises focuses on operations with complex column vectors and complex square matrices, including concrete cases with vectors and matrices written in LaTeX format.\n",
        "\n",
        "## Complex Column Vector Operations\n",
        "\n",
        "### Exercise 1: Sum of Two Complex Vectors\n",
        "Given two complex vectors\n",
        "$ v1 = \\begin{bmatrix} 1 + 2i \\\\ 3 - i \\end{bmatrix} $\n",
        "and\n",
        "$ v2 = \\begin{bmatrix} 2 - i \\\\ 4 + 2i \\end{bmatrix} $,\n",
        "find their sum.\n",
        "\n",
        "### Exercise 2: Negation of a Complex Vector\n",
        "Given a complex vector\n",
        "$ v = \\begin{bmatrix} 2 + 3i \\\\ 1 - 2i \\end{bmatrix} $,\n",
        "find its negation.\n",
        "\n",
        "### Exercise 3: Multiplication of a Complex Vector by a Scalar\n",
        "Multiply the complex vector\n",
        "$ v = \\begin{bmatrix} 1 - i \\\\ 2 + 2i \\end{bmatrix} $\n",
        "by the complex scalar $$ 3 + i $$.\n",
        "\n",
        "### Exercise 4: Transpose of a Complex Vector\n",
        "Find the transpose of the complex vector\n",
        "$ v = \\begin{bmatrix} 2 - i \\\\ 3 + 4i \\end{bmatrix} $.\n",
        "\n",
        "### Exercise 5: Conjugate of a Complex Vector\n",
        "Compute the conjugate of the complex vector\n",
        "$ v = \\begin{bmatrix} 1 + i \\\\ 2 - 3i \\end{bmatrix} $.\n",
        "\n",
        "### Exercise 6: Adjunct (Conjugate Transpose) of a Complex Vector\n",
        "Find the adjunct (or conjugate transpose) of the complex vector\n",
        "$ v = \\begin{bmatrix} 1 - 2i \\\\ 3 + i \\end{bmatrix} $.\n",
        "\n",
        "## Complex Square Matrix Operations\n",
        "\n",
        "### Exercise 7: Sum of Two Complex Matrices\n",
        "Given two complex matrices\n",
        "$ m1 = \\begin{bmatrix} 1 + i & 2 - i \\\\ 3 + 2i & 4 \\end{bmatrix} $\n",
        "and\n",
        "$ m2 = \\begin{bmatrix} 2 - 3i & 1 \\\\ i & 2 + 2i \\end{bmatrix} $,\n",
        "calculate their sum.\n",
        "\n",
        "### Exercise 8: Negation of a Complex Matrix\n",
        "Find the negation of the complex matrix\n",
        "$ m = \\begin{bmatrix} 2 + i & 3 \\\\ 1 - i & 2 + 2i \\end{bmatrix} $.\n",
        "\n",
        "### Exercise 9: Multiplication of a Complex Matrix by a Scalar\n",
        "Multiply the complex matrix\n",
        "$ m = \\begin{bmatrix} 1 - i & 2 \\\\ 3 + i & 4 - 2i \\end{bmatrix} $\n",
        "by the complex scalar $$ 2 + 3i $$.\n",
        "\n",
        "### Exercise 10: Conjugate of a Complex Matrix\n",
        "Compute the conjugate of the complex matrix\n",
        "$ m = \\begin{bmatrix} 1 + i & 2 \\\\ 3 - i & 4 + 2i \\end{bmatrix} $.\n",
        "\n",
        "### Exercise 11: Transpose of a Complex Matrix\n",
        "Find the transpose of the complex matrix\n",
        "$ m = \\begin{bmatrix} 1 - i & 2 + 2i \\\\ 3 & 4 - i \\end{bmatrix} $.\n",
        "\n",
        "### Exercise 12: Adjunct (Conjugate Transpose) of a Complex Matrix\n",
        "Calculate the adjunct (or conjugate transpose) of the complex matrix\n",
        "$ m = \\begin{bmatrix} 1 + 2i & 3 - i \\\\ 4 & 5 + i \\end{bmatrix} $.\n",
        "\n",
        "### Exercise 13: Checking the Dimensions of a Matrix\n",
        "Determine the dimensions of the complex matrix\n",
        "$ m = \\begin{bmatrix} 1 - i & 2 \\\\ 3 + 2i & 4 - i \\end{bmatrix} $.\n",
        "\n",
        "## Multiplication of Matrices and Vectors\n",
        "\n",
        "### Exercise 14: Multiplying a Complex Square Matrix by a Complex Column Vector\n",
        "Multiply the complex square matrix\n",
        "$ m = \\begin{bmatrix} 1 + i & 2 - i \\\\ 3 & 4 + i \\end{bmatrix} $\n",
        "by the complex column vector\n",
        "$ v = \\begin{bmatrix} 2 - i \\\\ 1 + 3i \\end{bmatrix} $.\n",
        "\n",
        "## Instructions\n",
        "For each exercise, ensure to display both the input (vectors/matrices) and the result of the operation.Use NumPy for these exercises to practice handling complex numbers and matrix operations in Python.\n"
      ]
    },
    {
      "cell_type": "code",
      "execution_count": 10,
      "id": "12949876-03e8-4f25-b566-517ed35ac1e1",
      "metadata": {
        "colab": {
          "base_uri": "https://localhost:8080/"
        },
        "id": "12949876-03e8-4f25-b566-517ed35ac1e1",
        "outputId": "e62b0207-38b8-4e19-99a5-24fdd4bc2e4b"
      },
      "outputs": [
        {
          "output_type": "stream",
          "name": "stdout",
          "text": [
            "Suma de vectores: [[3.+1.j]\n",
            " [7.+1.j]]\n"
          ]
        }
      ],
      "source": [
        "#Ejercicio 1\n",
        "\n",
        "import numpy as np\n",
        "\n",
        "v1 = np.array([[1 + 2j], [3 - 1j]])\n",
        "v2 = np.array([[2 - 1j], [4 + 2j]])\n",
        "result = v1 + v2\n",
        "print(\"Suma de vectores:\", result)"
      ]
    },
    {
      "cell_type": "code",
      "source": [
        "#Ejercicio 2\n",
        "\n",
        "v = np.array([[2+3j],[1-2j]])\n",
        "\n",
        "print(\"Negacion:\", -v)"
      ],
      "metadata": {
        "colab": {
          "base_uri": "https://localhost:8080/"
        },
        "id": "7J3r2hRyDhHe",
        "outputId": "316df266-d32c-44d2-8aa5-563bde8e9380"
      },
      "id": "7J3r2hRyDhHe",
      "execution_count": 9,
      "outputs": [
        {
          "output_type": "stream",
          "name": "stdout",
          "text": [
            "Negacion: [[-2.-3.j]\n",
            " [-1.+2.j]]\n"
          ]
        }
      ]
    },
    {
      "cell_type": "code",
      "source": [
        "#Ejercicio 3\n",
        "\n",
        "v = np.array([[1-1j],[2+2j]])\n",
        "a= 3+1j\n",
        "print(\"Multiplicacion por escalar:\", v*a)"
      ],
      "metadata": {
        "colab": {
          "base_uri": "https://localhost:8080/"
        },
        "id": "tq7rhfC9Dg82",
        "outputId": "0f51a2ed-f8d7-4edc-fe48-efad1af86af8"
      },
      "id": "tq7rhfC9Dg82",
      "execution_count": 8,
      "outputs": [
        {
          "output_type": "stream",
          "name": "stdout",
          "text": [
            "Multiplicacion por escalar: [[4.-2.j]\n",
            " [4.+8.j]]\n"
          ]
        }
      ]
    },
    {
      "cell_type": "code",
      "source": [
        "#Ejercicio 4\n",
        "\n",
        "v = np.array([[2-1j],[3+4j]])\n",
        "\n",
        "print(\"Transpuesta:\", v.T)"
      ],
      "metadata": {
        "colab": {
          "base_uri": "https://localhost:8080/"
        },
        "id": "nHAnRFbGDgxq",
        "outputId": "9c7a7691-8a20-4c8b-d0f6-4da4b9c8c369"
      },
      "id": "nHAnRFbGDgxq",
      "execution_count": null,
      "outputs": [
        {
          "output_type": "stream",
          "name": "stdout",
          "text": [
            "Transpuesta:\n",
            " [[2.-1.j 3.+4.j]]\n"
          ]
        }
      ]
    },
    {
      "cell_type": "code",
      "source": [
        "#Ejercicio 5\n",
        "\n",
        "v = np.array([[1+1j],[2-3j]])\n",
        "\n",
        "print(\"Conjugado:\", np.conjugate(v))"
      ],
      "metadata": {
        "colab": {
          "base_uri": "https://localhost:8080/"
        },
        "id": "hmysITM2Dglh",
        "outputId": "225b8c0a-fdff-46be-d3e2-f444160629c0"
      },
      "id": "hmysITM2Dglh",
      "execution_count": 11,
      "outputs": [
        {
          "output_type": "stream",
          "name": "stdout",
          "text": [
            "Conjugado: [[1.-1.j]\n",
            " [2.+3.j]]\n"
          ]
        }
      ]
    },
    {
      "cell_type": "code",
      "source": [
        "#Ejercicio 6\n",
        "\n",
        "v = np.array([[1-2j],[3+1j]])\n",
        "\n",
        "print(\"Vector adjunto:\", v.T.conj())"
      ],
      "metadata": {
        "colab": {
          "base_uri": "https://localhost:8080/"
        },
        "id": "3VtgYtJPDgb1",
        "outputId": "a5d7aa34-5050-434c-c746-51c2f4d042b5"
      },
      "id": "3VtgYtJPDgb1",
      "execution_count": 13,
      "outputs": [
        {
          "output_type": "stream",
          "name": "stdout",
          "text": [
            "Vector adjunto: [[1.+2.j 3.-1.j]]\n"
          ]
        }
      ]
    },
    {
      "cell_type": "code",
      "source": [
        "#Ejercicio 7\n",
        "\n",
        "m1 = np.array([[1+1j,2-1j],[3+2j,4]])\n",
        "m2 = np.array([[2-3j,1],[1j,2+2j]])\n",
        "\n",
        "print(\"Suma de matrices:\", m1+m2)"
      ],
      "metadata": {
        "colab": {
          "base_uri": "https://localhost:8080/"
        },
        "id": "OBOVP_S6DgQp",
        "outputId": "e571650a-a629-4cec-da4a-d35681128bcc"
      },
      "id": "OBOVP_S6DgQp",
      "execution_count": 14,
      "outputs": [
        {
          "output_type": "stream",
          "name": "stdout",
          "text": [
            "Suma de matrices: [[3.-2.j 3.-1.j]\n",
            " [3.+3.j 6.+2.j]]\n"
          ]
        }
      ]
    },
    {
      "cell_type": "code",
      "source": [
        "#Ejercicio 8\n",
        "\n",
        "m = np.array([[2+1j,3],[1-1j,2+2j]])\n",
        "\n",
        "print(\"Negacion:\", -m)"
      ],
      "metadata": {
        "colab": {
          "base_uri": "https://localhost:8080/"
        },
        "id": "T5DrPyCDDgGZ",
        "outputId": "eecb65f4-8bb1-45bc-894f-84e9ad86c2c3"
      },
      "id": "T5DrPyCDDgGZ",
      "execution_count": 15,
      "outputs": [
        {
          "output_type": "stream",
          "name": "stdout",
          "text": [
            "Negacion: [[-2.-1.j -3.-0.j]\n",
            " [-1.+1.j -2.-2.j]]\n"
          ]
        }
      ]
    },
    {
      "cell_type": "code",
      "source": [
        "#Ejercicio 9\n",
        "\n",
        "m = np.array([[1-1j,2],[3+1j,4-2j]])\n",
        "a = 2+3j\n",
        "\n",
        "print(\"Multiplicacion por escalar:\", m*a)"
      ],
      "metadata": {
        "colab": {
          "base_uri": "https://localhost:8080/"
        },
        "id": "9scwhCroDf6g",
        "outputId": "80b2804c-29f3-4586-e532-b99b712aa987"
      },
      "id": "9scwhCroDf6g",
      "execution_count": 16,
      "outputs": [
        {
          "output_type": "stream",
          "name": "stdout",
          "text": [
            "Multiplicacion por escalar: [[ 5. +1.j  4. +6.j]\n",
            " [ 3.+11.j 14. +8.j]]\n"
          ]
        }
      ]
    },
    {
      "cell_type": "code",
      "source": [
        "#Ejercicio 10\n",
        "\n",
        "m = np.array([[1+1j,2],[3-1j,4+2j]])\n",
        "\n",
        "print(\"Matriz Conjugada:\", np.conjugate(m))"
      ],
      "metadata": {
        "colab": {
          "base_uri": "https://localhost:8080/"
        },
        "id": "29DSo8WDDfwZ",
        "outputId": "490db2e6-7ad2-46ac-cfcf-816698faeb84"
      },
      "id": "29DSo8WDDfwZ",
      "execution_count": 17,
      "outputs": [
        {
          "output_type": "stream",
          "name": "stdout",
          "text": [
            "Conjugado: [[1.-1.j 2.-0.j]\n",
            " [3.+1.j 4.-2.j]]\n"
          ]
        }
      ]
    },
    {
      "cell_type": "code",
      "source": [
        "#Ejercicio 11\n",
        "\n",
        "m = np.array([[1-1j,2+2j],[3,4-1j]])\n",
        "\n",
        "print(\"Matriz transpuesta:\", m.T)"
      ],
      "metadata": {
        "colab": {
          "base_uri": "https://localhost:8080/"
        },
        "id": "nC4XfWxaDflS",
        "outputId": "f53902a4-5383-4ad7-ff66-9cab75322f20"
      },
      "id": "nC4XfWxaDflS",
      "execution_count": 18,
      "outputs": [
        {
          "output_type": "stream",
          "name": "stdout",
          "text": [
            "Matriz transpuesta: [[1.-1.j 3.+0.j]\n",
            " [2.+2.j 4.-1.j]]\n"
          ]
        }
      ]
    },
    {
      "cell_type": "code",
      "source": [
        "#Ejercicio 12\n",
        "\n",
        "m = np.array([[1+2j,3-1j],[4,5+1j]])\n",
        "\n",
        "print(\"Matriz adjunta:\", m.T.conj())"
      ],
      "metadata": {
        "colab": {
          "base_uri": "https://localhost:8080/"
        },
        "id": "DfvgeiefDfZ6",
        "outputId": "3bdcc11e-c62c-4807-c970-ffeb58754995"
      },
      "id": "DfvgeiefDfZ6",
      "execution_count": 19,
      "outputs": [
        {
          "output_type": "stream",
          "name": "stdout",
          "text": [
            "Matriz adjunta: [[1.-2.j 4.-0.j]\n",
            " [3.+1.j 5.-1.j]]\n"
          ]
        }
      ]
    },
    {
      "cell_type": "code",
      "source": [
        "#Ejercicio 13\n",
        "\n",
        "m = np.array([[1-1j,2],[3+2j,4-1j]])\n",
        "\n",
        "print(\"Dimensiones de la matriz\", m.shape)"
      ],
      "metadata": {
        "colab": {
          "base_uri": "https://localhost:8080/"
        },
        "id": "Fz9PYYj2DeZo",
        "outputId": "8d2cc293-ab38-4cd2-c002-8a6d2aab0e18"
      },
      "id": "Fz9PYYj2DeZo",
      "execution_count": 20,
      "outputs": [
        {
          "output_type": "stream",
          "name": "stdout",
          "text": [
            "Dimensiones de la matriz (2, 2)\n"
          ]
        }
      ]
    },
    {
      "cell_type": "code",
      "source": [
        "#Ejercicio 14\n",
        "\n",
        "m = np.array([[1+1j,2-1j],[3,4+1j]])\n",
        "v = np.array([[2-1j],[1+3j]])\n",
        "\n",
        "print(\"Multiplicacion de matrices:\", np.dot(m,v))"
      ],
      "metadata": {
        "colab": {
          "base_uri": "https://localhost:8080/"
        },
        "id": "PljjJRn0DeOt",
        "outputId": "8ca1a904-d1f3-4ec1-e67b-ed37957c93d7"
      },
      "id": "PljjJRn0DeOt",
      "execution_count": 21,
      "outputs": [
        {
          "output_type": "stream",
          "name": "stdout",
          "text": [
            "Multiplicacion de matrices: [[8. +6.j]\n",
            " [7.+10.j]]\n"
          ]
        }
      ]
    }
  ],
  "metadata": {
    "kernelspec": {
      "display_name": "Python 3 (ipykernel)",
      "language": "python",
      "name": "python3"
    },
    "language_info": {
      "codemirror_mode": {
        "name": "ipython",
        "version": 3
      },
      "file_extension": ".py",
      "mimetype": "text/x-python",
      "name": "python",
      "nbconvert_exporter": "python",
      "pygments_lexer": "ipython3",
      "version": "3.12.1"
    },
    "colab": {
      "provenance": []
    }
  },
  "nbformat": 4,
  "nbformat_minor": 5
}